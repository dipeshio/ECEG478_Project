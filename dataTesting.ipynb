{
 "cells": [
  {
   "cell_type": "code",
   "execution_count": 1,
   "id": "initial_id",
   "metadata": {
    "collapsed": true,
    "ExecuteTime": {
     "end_time": "2025-04-22T18:29:35.304754Z",
     "start_time": "2025-04-22T18:29:31.513632Z"
    }
   },
   "outputs": [],
   "source": [
    "## loading in all of the important libraries\n",
    "import os\n",
    "import pandas as pd\n",
    "import numpy as np\n",
    "import torch as pt\n",
    "import torch.nn as nn\n",
    "import torch.nn.functional as F\n",
    "import torch.optim as optim\n",
    "from torch.utils.data import Dataset, DataLoader\n",
    "from sklearn.model_selection import train_test_split\n",
    "from sklearn.metrics import accuracy_score, f1_score\n",
    "from sklearn.preprocessing import StandardScaler\n",
    "from sklearn.preprocessing import LabelEncoder\n",
    "from sklearn.metrics import classification_report\n",
    "from sklearn.metrics import confusion_matrix\n",
    "import matplotlib.pyplot as plt\n",
    "import seaborn as sns\n",
    "import warnings"
   ]
  },
  {
   "cell_type": "code",
   "outputs": [
    {
     "name": "stdout",
     "output_type": "stream",
     "text": [
      "                  file           age  gender   race  age_label  race_label\n",
      "0      train/42288.jpg           0-2  Female  Black          0           0\n",
      "1      train/21191.jpg           0-2  Female  Black          0           0\n",
      "2      train/56271.jpg           0-2  Female  Black          0           0\n",
      "3      train/84449.jpg           0-2  Female  Black          0           0\n",
      "4         train/19.jpg           0-2  Female  Black          0           0\n",
      "...                ...           ...     ...    ...        ...         ...\n",
      "25884  train/26039.jpg  more than 70    Male  White          8           6\n",
      "25885  train/69542.jpg  more than 70    Male  White          8           6\n",
      "25886  train/85279.jpg  more than 70    Male  White          8           6\n",
      "25887  train/22469.jpg  more than 70    Male  White          8           6\n",
      "25888  train/61193.jpg  more than 70    Male  White          8           6\n",
      "\n",
      "[25889 rows x 6 columns]\n"
     ]
    },
    {
     "name": "stderr",
     "output_type": "stream",
     "text": [
      "C:\\Users\\sharm\\AppData\\Local\\Temp\\ipykernel_26248\\229225782.py:29: DeprecationWarning: DataFrameGroupBy.apply operated on the grouping columns. This behavior is deprecated, and in a future version of pandas the grouping columns will be excluded from the operation. Either pass `include_groups=False` to exclude the groupings or explicitly select the grouping columns after groupby to silence this warning.\n",
      "  balanced_df = grouped.apply(lambda x: x.sample(n=min(len(x), n_per_group), random_state=42))\n"
     ]
    }
   ],
   "source": [
    "# loading in the dataset and getting some metrics out of it\n",
    "df = pd.read_csv('FairFace/fairface_label_train.csv')  \n",
    "\n",
    "# Encode categorical labels\n",
    "age_bins = ['0-2', '3-9', '10-19', '20-29', '30-39', '40-49', '50-59', '60-69', 'more than 70']\n",
    "df = df[df['age'].isin(age_bins)]  # ensure only those bins are used\n",
    "age_encoder = LabelEncoder()\n",
    "df['age_label'] = age_encoder.fit_transform(df['age'])\n",
    "\n",
    "race_encoder = LabelEncoder()\n",
    "df['race_label'] = race_encoder.fit_transform(df['race'])\n",
    "\n",
    "# remove service_test column\n",
    "df = df.drop(columns=['service_test'])\n",
    "\n",
    "def balance_by_multiple_attributes(df, attr_cols, n_per_group):\n",
    "    \"\"\"\n",
    "    Balances the dataframe by sampling n_per_group from each combination of values in attr_cols.\n",
    "    \n",
    "    Args:\n",
    "        df (DataFrame): Your original dataframe\n",
    "        attr_cols (list): List of columns to group by (e.g., ['age_label', 'gender'])\n",
    "        n_per_group (int): Number of samples per group\n",
    "        \n",
    "    Returns:\n",
    "        Balanced DataFrame\n",
    "    \"\"\"\n",
    "    grouped = df.groupby(attr_cols)\n",
    "    balanced_df = grouped.apply(lambda x: x.sample(n=min(len(x), n_per_group), random_state=42))\n",
    "    balanced_df = balanced_df.reset_index(drop=True)\n",
    "    return balanced_df\n",
    "\n",
    "newSet = balance_by_multiple_attributes(df, ['age_label', 'gender', 'race_label'], 250)\n",
    "print(newSet)\n"
   ],
   "metadata": {
    "collapsed": false,
    "ExecuteTime": {
     "end_time": "2025-04-22T19:51:41.481706Z",
     "start_time": "2025-04-22T19:51:41.186440Z"
    }
   },
   "id": "f2b535f7b869d6fb",
   "execution_count": 50
  },
  {
   "cell_type": "code",
   "outputs": [],
   "source": [
    "# print(df['age'].unique())\n",
    "# print(df['age_label'].unique())\n",
    "\n",
    "age_labels_dict = {}\n",
    "race_labels_dict = {}\n",
    "for i in range(len(age_bins)):\n",
    "    age_labels_dict.update({age_bins[i]: i})\n",
    "    \n",
    "for i in range(len(df['race_label'].unique())):\n",
    "    race_labels_dict.update({df['race'].unique()[i]: i})\n",
    "    \n",
    "\n",
    "print(age_labels_dict)\n",
    "print(race_labels_dict)\n",
    "# Black: 0, East Asian: 1, Indian: 2, Latino Hispanic: 3, Middle Eastern: 4, Southeast Asian: 5, White: 6\\\n",
    "\n",
    "# print(df.head())"
   ],
   "metadata": {
    "collapsed": false
   },
   "id": "6f46fa31b263093a"
  },
  {
   "cell_type": "code",
   "outputs": [],
   "source": [
    "# normalize the dataset\n",
    "# For gender: 10k Male + 10k Female for training\n",
    "train_set_df = pd.concat([\n",
    "    df[df['gender'] == 'Male'].sample(n=10000, random_state=42),\n",
    "    df[df['gender'] == 'Female'].sample(n=10000, random_state=42)\n",
    "])\n",
    "\n",
    "## Output of Encoding for age and race\n",
    "list(zip(age_encoder.classes_, range(len(age_encoder.classes_))))\n",
    "list(zip(race_encoder.classes_, range(len(race_encoder.classes_))))"
   ],
   "metadata": {
    "collapsed": false,
    "ExecuteTime": {
     "end_time": "2025-04-22T19:23:11.553965Z",
     "start_time": "2025-04-22T19:23:11.524495Z"
    }
   },
   "id": "e4f7b4d7809f3ff4",
   "execution_count": 35
  },
  {
   "cell_type": "code",
   "outputs": [
    {
     "name": "stdout",
     "output_type": "stream",
     "text": [
      "20-29\n"
     ]
    },
    {
     "data": {
      "text/plain": "<Figure size 1200x600 with 1 Axes>",
      "image/png": "[encoded data removed]"
     },
     "metadata": {},
     "output_type": "display_data"
    }
   ],
   "source": [
    "# turn into histogram\n",
    "plt.figure(figsize=(12, 6))\n",
    "plt.subplot(1, 2, 1)\n",
    "plt.bar(age_label_value.index, age_label_value.values)\n",
    "plt.title('Age Distribution')\n",
    "plt.xlabel('Age Label')\n",
    "plt.ylabel('Count')\n",
    "\n",
    "# print((train_set_df['age_label']==2).sum())\n",
    "print(age_encoder.inverse_transform([0])[0])"
   ],
   "metadata": {
    "collapsed": false,
    "ExecuteTime": {
     "end_time": "2025-04-22T19:25:27.632286Z",
     "start_time": "2025-04-22T19:25:27.445442Z"
    }
   },
   "id": "a406c92a8d8431f7",
   "execution_count": 37
  },
  {
   "cell_type": "code",
   "outputs": [],
   "source": [],
   "metadata": {
    "collapsed": false
   },
   "id": "fb860c97b11d4515",
   "execution_count": null
  },
  {
   "cell_type": "code",
   "outputs": [
    {
     "data": {
      "text/plain": "Text(0, 0.5, 'Count')"
     },
     "execution_count": 30,
     "metadata": {},
     "output_type": "execute_result"
    },
    {
     "data": {
      "text/plain": "<Figure size 1200x600 with 1 Axes>",
      "image/png": "[encoded data removed]"
     },
     "metadata": {},
     "output_type": "display_data"
    }
   ],
   "source": [
    "# turn into histogram\n",
    "plt.figure(figsize=(12, 6))\n",
    "plt.subplot(1, 2, 1)\n",
    "plt.bar(race_label_value.index, race_label_value.values)\n",
    "plt.title('Race Distribution')\n",
    "plt.xlabel('Race Label')\n",
    "plt.ylabel('Count')"
   ],
   "metadata": {
    "collapsed": false,
    "ExecuteTime": {
     "end_time": "2025-04-22T19:11:56.664460Z",
     "start_time": "2025-04-22T19:11:56.428884Z"
    }
   },
   "id": "51b393e5e1ff6cf",
   "execution_count": 30
  },
  {
   "cell_type": "code",
   "outputs": [
    {
     "name": "stdout",
     "output_type": "stream",
     "text": [
      "                  file           age  gender   race  age_label  race_label\n",
      "0      train/42288.jpg           0-2  Female  Black          0           0\n",
      "1      train/21191.jpg           0-2  Female  Black          0           0\n",
      "2      train/56271.jpg           0-2  Female  Black          0           0\n",
      "3      train/84449.jpg           0-2  Female  Black          0           0\n",
      "4         train/19.jpg           0-2  Female  Black          0           0\n",
      "...                ...           ...     ...    ...        ...         ...\n",
      "25884  train/26039.jpg  more than 70    Male  White          8           6\n",
      "25885  train/69542.jpg  more than 70    Male  White          8           6\n",
      "25886  train/85279.jpg  more than 70    Male  White          8           6\n",
      "25887  train/22469.jpg  more than 70    Male  White          8           6\n",
      "25888  train/61193.jpg  more than 70    Male  White          8           6\n",
      "\n",
      "[25889 rows x 6 columns]\n"
     ]
    },
    {
     "name": "stderr",
     "output_type": "stream",
     "text": [
      "C:\\Users\\sharm\\AppData\\Local\\Temp\\ipykernel_26248\\323961701.py:14: DeprecationWarning: DataFrameGroupBy.apply operated on the grouping columns. This behavior is deprecated, and in a future version of pandas the grouping columns will be excluded from the operation. Either pass `include_groups=False` to exclude the groupings or explicitly select the grouping columns after groupby to silence this warning.\n",
      "  balanced_df = grouped.apply(lambda x: x.sample(n=min(len(x), n_per_group), random_state=42))\n"
     ]
    }
   ],
   "source": [],
   "metadata": {
    "collapsed": false,
    "ExecuteTime": {
     "end_time": "2025-04-22T19:48:52.433055Z",
     "start_time": "2025-04-22T19:48:52.248691Z"
    }
   },
   "id": "f881a83b5e19b35c",
   "execution_count": 46
  },
  {
   "cell_type": "code",
   "outputs": [],
   "source": [],
   "metadata": {
    "collapsed": false
   },
   "id": "f8ccc0c47ffe44e2"
  }
 ],
 "metadata": {
  "kernelspec": {
   "display_name": "Python 3",
   "language": "python",
   "name": "python3"
  },
  "language_info": {
   "codemirror_mode": {
    "name": "ipython",
    "version": 2
   },
   "file_extension": ".py",
   "mimetype": "text/x-python",
   "name": "python",
   "nbconvert_exporter": "python",
   "pygments_lexer": "ipython2",
   "version": "2.7.6"
  }
 },
 "nbformat": 4,
 "nbformat_minor": 5
}
