{
  "cells": [
    {
      "cell_type": "code",
      "execution_count": 4,
      "id": "initial_id",
      "metadata": {
        "collapsed": true,
        "ExecuteTime": {
          "end_time": "2025-03-18T12:51:15.731184700Z",
          "start_time": "2025-03-18T12:51:12.167799900Z"
        },
        "id": "initial_id"
      },
      "outputs": [],
      "source": [
        "import kagglehub as kag\n",
        "import numpy as np\n",
        "import pandas as pd\n",
        "import matplotlib.pyplot as plt\n",
        "import zipfile"
      ]
    },
    {
      "cell_type": "code",
      "outputs": [],
      "source": [
        "# Unzipping and extracing the dataset from an original Zip File\n",
        "zip_ref = zipfile.ZipFile(\"/archive.zip\", 'r')\n",
        "zip_ref.extractall(\"/dataset\")\n",
        "zip_ref.close()"
      ],
      "metadata": {
        "id": "ead7036dd45063d2"
      },
      "id": "ead7036dd45063d2",
      "execution_count": null
    }
  ],
  "metadata": {
    "kernelspec": {
      "display_name": "Python 3",
      "language": "python",
      "name": "python3"
    },
    "language_info": {
      "codemirror_mode": {
        "name": "ipython",
        "version": 2
      },
      "file_extension": ".py",
      "mimetype": "text/x-python",
      "name": "python",
      "nbconvert_exporter": "python",
      "pygments_lexer": "ipython2",
      "version": "2.7.6"
    },
    "colab": {
      "provenance": []
    }
  },
  "nbformat": 4,
  "nbformat_minor": 5
}