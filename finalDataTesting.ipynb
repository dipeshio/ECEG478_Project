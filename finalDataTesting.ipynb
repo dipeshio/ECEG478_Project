{
 "cells": [
  {
   "cell_type": "code",
   "execution_count": null,
   "metadata": {},
   "outputs": [],
   "source": [
    "%pip install import_ipynb\n",
    "import sys\n",
    "import pandas as pd\n",
    "# Correctly import the notebook file using import_ipynb\n",
    "import main_modules.FairFaceLoader as FFL"
   ]
  },
  {
   "cell_type": "code",
   "execution_count": null,
   "metadata": {},
   "outputs": [],
   "source": [
    "!nvidia-smi"
   ]
  },
  {
   "cell_type": "code",
   "execution_count": null,
   "metadata": {},
   "outputs": [],
   "source": [
    "\n",
    "## Loading and establishing the datasets\n",
    "\n",
    "trainPath = r\"FairFace/fairface_label_train.csv\" \n",
    "valPath = r\"FairFace/fairface_label_val.csv\"\n",
    "attributes = ['age_label', 'gender_label', 'race_label']\n",
    "\n",
    "# Assuming the class inside dataLoader.py is named DataLoader\n",
    "trainSet = FFL.FairFaceLoader(trainPath)\n",
    "valSet = FFL.FairFaceLoader(valPath)\n",
    "\n",
    "trainSet.balance(attributes,250)\n",
    "valSet.balance(attributes,62)\n",
    "\n",
    "trainSet.randomizeBalancedSet()\n",
    "# trainSet.displayChart(\"balanced\")\n",
    "trainSet.getDecodedLabels()\n"
   ]
  }
 ],
 "metadata": {
  "kernelspec": {
   "display_name": "Python 3",
   "language": "python",
   "name": "python3"
  },
  "language_info": {
   "codemirror_mode": {
    "name": "ipython",
    "version": 3
   },
   "file_extension": ".py",
   "mimetype": "text/x-python",
   "name": "python",
   "nbconvert_exporter": "python",
   "pygments_lexer": "ipython3",
   "version": "3.12.5"
  }
 },
 "nbformat": 4,
 "nbformat_minor": 2
}
