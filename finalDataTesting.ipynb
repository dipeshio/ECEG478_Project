{
 "cells": [
  {
   "cell_type": "code",
   "execution_count": null,
   "metadata": {},
   "outputs": [],
   "source": [
    "## loading in all of the important libraries\n",
    "import os\n",
    "import random\n",
    "import pandas as pd\n",
    "import numpy as np\n",
    "import torch as pt\n",
    "import torch.nn as nn\n",
    "import torch.nn.functional as F\n",
    "import torch.optim as optim\n",
    "# import torchvision.models as models\n",
    "from torch.utils.data import Dataset, DataLoader\n",
    "from sklearn.model_selection import train_test_split\n",
    "from sklearn.metrics import accuracy_score, f1_score\n",
    "from sklearn.preprocessing import StandardScaler\n",
    "from sklearn.preprocessing import LabelEncoder\n",
    "from sklearn.metrics import classification_report\n",
    "from sklearn.metrics import confusion_matrix\n",
    "import matplotlib.pyplot as plt\n",
    "import warnings\n",
    "import seaborn as sns\n",
    "import tqdm as tqdm\n",
    "import shutil\n",
    "\n",
    "## import the FairFaceLoader\n",
    "import main_modules.FairFaceLoader as FairFaceLoader\n",
    "import main_modules.AgeGenderNet as AgeGenderNet\n",
    "import main_modules.FairFaceMulti as FairFaceMulti"
   ]
  },
  {
   "cell_type": "code",
   "execution_count": null,
   "metadata": {},
   "outputs": [
    {
     "ename": "AttributeError",
     "evalue": "'FairFaceLoader' object has no attribute 'createTrainValSet'",
     "output_type": "error",
     "traceback": [
      "\u001b[1;31m---------------------------------------------------------------------------\u001b[0m",
      "\u001b[1;31mAttributeError\u001b[0m                            Traceback (most recent call last)",
      "Cell \u001b[1;32mIn[7], line 4\u001b[0m\n\u001b[0;32m      2\u001b[0m mainSet \u001b[38;5;241m=\u001b[39m FairFaceLoader\u001b[38;5;241m.\u001b[39mFairFaceLoader(filePath)\n\u001b[0;32m      3\u001b[0m mainSet\u001b[38;5;241m.\u001b[39mrandomizeSet()\n\u001b[1;32m----> 4\u001b[0m \u001b[43mmainSet\u001b[49m\u001b[38;5;241;43m.\u001b[39;49m\u001b[43mcreateTrainValSet\u001b[49m()\n\u001b[0;32m      5\u001b[0m mainSet\u001b[38;5;241m.\u001b[39mcreateTestSet()\n\u001b[0;32m      7\u001b[0m \u001b[38;5;28mprint\u001b[39m(mainSet\u001b[38;5;241m.\u001b[39mgetTrainSet()\u001b[38;5;241m.\u001b[39mshape)\n",
      "\u001b[1;31mAttributeError\u001b[0m: 'FairFaceLoader' object has no attribute 'createTrainValSet'"
     ]
    }
   ],
   "source": [
    "filePath = r\"FairFace/fairface_label_train.csv\"\n",
    "mainSet = FairFaceLoader.FairFaceLoader(filePath)\n",
    "mainSet.randomizeSet()\n",
    "mainSet.createTrainValSet(\"train\")\n",
    "mainSet.createTestSet()\n",
    "\n",
    "print(mainSet.getTrainSet().shape)"
   ]
  },
  {
   "cell_type": "code",
   "execution_count": null,
   "metadata": {},
   "outputs": [],
   "source": [
    "\n",
    "# ## Loading and establishing the datasets\n",
    "\n",
    "# trainPath = r\"FairFace/fairface_label_train.csv\" \n",
    "# valPath = r\"FairFace/fairface_label_val.csv\"\n",
    "# attributes = ['age_label', 'gender_label', 'race_label']\n",
    "\n",
    "# # Assuming the class inside dataLoader.py is named DataLoader\n",
    "# trainSet = FFL.FairFaceLoader(trainPath)\n",
    "# valSet = FFL.FairFaceLoader(valPath)\n",
    "\n",
    "# trainSet.balance(attributes,250)\n",
    "# valSet.balance(attributes,62)\n",
    "\n",
    "# trainSet.randomizeBalancedSet()\n",
    "# # trainSet.displayChart(\"balanced\")\n",
    "# trainSet.getDecodedLabels()\n"
   ]
  }
 ],
 "metadata": {
  "kernelspec": {
   "display_name": "Python 3",
   "language": "python",
   "name": "python3"
  },
  "language_info": {
   "codemirror_mode": {
    "name": "ipython",
    "version": 3
   },
   "file_extension": ".py",
   "mimetype": "text/x-python",
   "name": "python",
   "nbconvert_exporter": "python",
   "pygments_lexer": "ipython3",
   "version": "3.12.5"
  }
 },
 "nbformat": 4,
 "nbformat_minor": 2
}
