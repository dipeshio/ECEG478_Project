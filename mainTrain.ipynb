{
  "cells": [
    {
      "cell_type": "code",
      "execution_count": 6,
      "id": "initial_id",
      "metadata": {
        "collapsed": true,
        "ExecuteTime": {
          "end_time": "2025-03-18T12:51:15.731184700Z",
          "start_time": "2025-03-18T12:51:12.167799900Z"
        },
        "id": "initial_id"
      },
      "outputs": [],
      "source": [
        "import kagglehub as kag\n",
        "import numpy as np\n",
        "import pandas as pd\n",
        "import matplotlib.pyplot as plt\n",
        "import zipfile"
      ]
    },
    {
      "cell_type": "code",
      "outputs": [],
      "source": [
        "# Unzipping and extracing the dataset from an original Zip File\n",
        "zip_ref = zipfile.ZipFile(\"/content/archive.zip\", 'r')\n",
        "zip_ref.extractall(\"/content/dataset\")\n",
        "zip_ref.close()"
      ],
      "metadata": {
        "id": "ead7036dd45063d2"
      },
      "id": "ead7036dd45063d2",
      "execution_count": 7
    },
    {
      "cell_type": "code",
      "source": [
        "# Open and read the csv files\n",
        "df_train = pd.read_csv(\"/content/dataset/FairFace/fairface_label_train.csv\")\n",
        "df_test = pd.read_csv(\"/content/dataset/FairFace/fairface_label_val.csv\")\n",
        "\n",
        "print(df_train)\n",
        "print(df_test)"
      ],
      "metadata": {
        "id": "8uDhpvjHMxD5",
        "outputId": "d61ff737-5388-4220-ee96-18dc60aa0f94",
        "colab": {
          "base_uri": "https://localhost:8080/"
        }
      },
      "id": "8uDhpvjHMxD5",
      "execution_count": 12,
      "outputs": [
        {
          "output_type": "stream",
          "name": "stdout",
          "text": [
            "                  file           age  gender        race  service_test\n",
            "0          train/1.jpg         50-59    Male  East Asian          True\n",
            "1          train/2.jpg         30-39  Female      Indian         False\n",
            "2          train/3.jpg           3-9  Female       Black         False\n",
            "3          train/4.jpg         20-29  Female      Indian          True\n",
            "4          train/5.jpg         20-29  Female      Indian          True\n",
            "...                ...           ...     ...         ...           ...\n",
            "86739  train/86740.jpg         20-29    Male      Indian          True\n",
            "86740  train/86741.jpg         10-19    Male      Indian          True\n",
            "86741  train/86742.jpg  more than 70  Female      Indian          True\n",
            "86742  train/86743.jpg         10-19  Female       Black          True\n",
            "86743  train/86744.jpg         40-49    Male       White         False\n",
            "\n",
            "[86744 rows x 5 columns]\n"
          ]
        }
      ]
    }
  ],
  "metadata": {
    "kernelspec": {
      "display_name": "Python 3",
      "language": "python",
      "name": "python3"
    },
    "language_info": {
      "codemirror_mode": {
        "name": "ipython",
        "version": 2
      },
      "file_extension": ".py",
      "mimetype": "text/x-python",
      "name": "python",
      "nbconvert_exporter": "python",
      "pygments_lexer": "ipython2",
      "version": "2.7.6"
    },
    "colab": {
      "provenance": []
    }
  },
  "nbformat": 4,
  "nbformat_minor": 5
}