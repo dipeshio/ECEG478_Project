{
 "cells": [
  {
   "cell_type": "code",
   "execution_count": 2,
   "metadata": {},
   "outputs": [
    {
     "name": "stdout",
     "output_type": "stream",
     "text": [
      "Pre train set size:\n",
      "11035\n",
      "Remaining set size:\n",
      "2207\n",
      "Remaining set:\n",
      "                  file  age  gender   race\n",
      "4      train/49292.jpg  0-2  Female  Black\n",
      "11     train/63347.jpg  0-2  Female  Black\n",
      "13     train/84464.jpg  0-2  Female  Black\n",
      "23     train/45551.jpg  0-2  Female  Black\n",
      "25     train/11869.jpg  0-2  Female  Black\n",
      "...                ...  ...     ...    ...\n",
      "11023  train/63035.jpg  60+    Male  White\n",
      "11027  train/30740.jpg  60+    Male  White\n",
      "11029  train/72407.jpg  60+    Male  White\n",
      "11030  train/81945.jpg  60+    Male  White\n",
      "11031  train/56902.jpg  60+    Male  White\n",
      "\n",
      "[2207 rows x 4 columns]\n",
      "Post train set size:\n",
      "11035\n",
      "Column 'service_test' not in df; could have been removed already.\n",
      "Pre train set size:\n",
      "11035\n"
     ]
    },
    {
     "ename": "AttributeError",
     "evalue": "'NoneType' object has no attribute 'sample'",
     "output_type": "error",
     "traceback": [
      "\u001b[1;31m---------------------------------------------------------------------------\u001b[0m",
      "\u001b[1;31mAttributeError\u001b[0m                            Traceback (most recent call last)",
      "Cell \u001b[1;32mIn[2], line 25\u001b[0m\n\u001b[0;32m     22\u001b[0m \u001b[38;5;28;01mimport\u001b[39;00m \u001b[38;5;21;01mshutil\u001b[39;00m\n\u001b[0;32m     24\u001b[0m \u001b[38;5;66;03m## import the FairFaceLoader\u001b[39;00m\n\u001b[1;32m---> 25\u001b[0m \u001b[38;5;28;01mimport\u001b[39;00m \u001b[38;5;21;01mmain_modules\u001b[39;00m\u001b[38;5;21;01m.\u001b[39;00m\u001b[38;5;21;01mFairFaceLoader\u001b[39;00m \u001b[38;5;28;01mas\u001b[39;00m \u001b[38;5;21;01mFairFaceLoader\u001b[39;00m\n\u001b[0;32m     26\u001b[0m \u001b[38;5;28;01mimport\u001b[39;00m \u001b[38;5;21;01mmain_modules\u001b[39;00m\u001b[38;5;21;01m.\u001b[39;00m\u001b[38;5;21;01mAgeGenderNet\u001b[39;00m \u001b[38;5;28;01mas\u001b[39;00m \u001b[38;5;21;01mAgeGenderNet\u001b[39;00m\n\u001b[0;32m     27\u001b[0m \u001b[38;5;28;01mimport\u001b[39;00m \u001b[38;5;21;01mmain_modules\u001b[39;00m\u001b[38;5;21;01m.\u001b[39;00m\u001b[38;5;21;01mFairFaceMulti\u001b[39;00m \u001b[38;5;28;01mas\u001b[39;00m \u001b[38;5;21;01mFairFaceMulti\u001b[39;00m\n",
      "File \u001b[1;32mc:\\Users\\User\\Documents\\Projects\\ECEG478_Project\\main_modules\\FairFaceLoader.py:317\u001b[0m\n\u001b[0;32m    315\u001b[0m testSet\u001b[38;5;241m.\u001b[39mrandomizeSet()\n\u001b[0;32m    316\u001b[0m testSet\u001b[38;5;241m.\u001b[39mcreateTrainValSet(\u001b[38;5;124m'\u001b[39m\u001b[38;5;124mtrain\u001b[39m\u001b[38;5;124m'\u001b[39m)\n\u001b[1;32m--> 317\u001b[0m \u001b[43mtestSet\u001b[49m\u001b[38;5;241;43m.\u001b[39;49m\u001b[43mcreateTrainValSet\u001b[49m\u001b[43m(\u001b[49m\u001b[38;5;124;43m'\u001b[39;49m\u001b[38;5;124;43mval\u001b[39;49m\u001b[38;5;124;43m'\u001b[39;49m\u001b[43m)\u001b[49m\n\u001b[0;32m    319\u001b[0m \u001b[38;5;28mprint\u001b[39m(testSet\u001b[38;5;241m.\u001b[39mgetTrainSet())\n\u001b[0;32m    320\u001b[0m \u001b[38;5;28mprint\u001b[39m(testSet\u001b[38;5;241m.\u001b[39mgetValSet())\n",
      "File \u001b[1;32mc:\\Users\\User\\Documents\\Projects\\ECEG478_Project\\main_modules\\FairFaceLoader.py:201\u001b[0m, in \u001b[0;36mFairFaceLoader.createTrainValSet\u001b[1;34m(self, type, n_per_group)\u001b[0m\n\u001b[0;32m    199\u001b[0m     \u001b[38;5;28mprint\u001b[39m(\u001b[38;5;28mlen\u001b[39m(\u001b[38;5;28mself\u001b[39m\u001b[38;5;241m.\u001b[39msecondary_df))\n\u001b[0;32m    200\u001b[0m \u001b[38;5;28;01melif\u001b[39;00m \u001b[38;5;28mtype\u001b[39m \u001b[38;5;241m==\u001b[39m \u001b[38;5;124m\"\u001b[39m\u001b[38;5;124mval\u001b[39m\u001b[38;5;124m\"\u001b[39m:\n\u001b[1;32m--> 201\u001b[0m     \u001b[38;5;28mself\u001b[39m\u001b[38;5;241m.\u001b[39mvalSet \u001b[38;5;241m=\u001b[39m \u001b[38;5;28;43mself\u001b[39;49m\u001b[38;5;241;43m.\u001b[39;49m\u001b[43mremainingSet\u001b[49m\u001b[38;5;241;43m.\u001b[39;49m\u001b[43msample\u001b[49m(frac\u001b[38;5;241m=\u001b[39m\u001b[38;5;241m0.2\u001b[39m, random_state\u001b[38;5;241m=\u001b[39m\u001b[38;5;28mself\u001b[39m\u001b[38;5;241m.\u001b[39mrandom_int())\u001b[38;5;241m.\u001b[39mreset_index(drop\u001b[38;5;241m=\u001b[39m\u001b[38;5;28;01mTrue\u001b[39;00m)\n\u001b[0;32m    202\u001b[0m     \u001b[38;5;66;03m## dropping the values in the val set from the secondary dataframe\u001b[39;00m\n\u001b[0;32m    203\u001b[0m \u001b[38;5;28;01melse\u001b[39;00m:\n\u001b[0;32m    204\u001b[0m     \u001b[38;5;28mprint\u001b[39m(\u001b[38;5;124m\"\u001b[39m\u001b[38;5;124mPlease select either \u001b[39m\u001b[38;5;124m'\u001b[39m\u001b[38;5;124mtrain\u001b[39m\u001b[38;5;124m'\u001b[39m\u001b[38;5;124m or \u001b[39m\u001b[38;5;124m'\u001b[39m\u001b[38;5;124mval\u001b[39m\u001b[38;5;124m'\u001b[39m\u001b[38;5;124m dataset\u001b[39m\u001b[38;5;124m\"\u001b[39m)\n",
      "\u001b[1;31mAttributeError\u001b[0m: 'NoneType' object has no attribute 'sample'"
     ]
    }
   ],
   "source": [
    "## loading in all of the important libraries\n",
    "import os\n",
    "import random\n",
    "import pandas as pd\n",
    "import numpy as np\n",
    "import torch as pt\n",
    "import torch.nn as nn\n",
    "import torch.nn.functional as F\n",
    "import torch.optim as optim\n",
    "# import torchvision.models as models\n",
    "from torch.utils.data import Dataset, DataLoader\n",
    "from sklearn.model_selection import train_test_split\n",
    "from sklearn.metrics import accuracy_score, f1_score\n",
    "from sklearn.preprocessing import StandardScaler\n",
    "from sklearn.preprocessing import LabelEncoder\n",
    "from sklearn.metrics import classification_report\n",
    "from sklearn.metrics import confusion_matrix\n",
    "import matplotlib.pyplot as plt\n",
    "import warnings\n",
    "import seaborn as sns\n",
    "import tqdm as tqdm\n",
    "import shutil\n",
    "\n",
    "## import the FairFaceLoader\n",
    "import main_modules.FairFaceLoader as FairFaceLoader\n",
    "import main_modules.AgeGenderNet as AgeGenderNet\n",
    "import main_modules.FairFaceMulti as FairFaceMulti"
   ]
  },
  {
   "cell_type": "code",
   "execution_count": null,
   "metadata": {},
   "outputs": [],
   "source": [
    "filePath = r\"FairFace/fairface_label_train.csv\"\n",
    "mainSet = FairFaceLoader.FairFaceLoader(filePath)\n",
    "mainSet.randomizeSet()\n",
    "# mainSet.createTrainValSet()\n",
    "# mainSet.createTestSet()\n",
    "\n",
    "# print(mainSet.getTrainSet().shape)"
   ]
  },
  {
   "cell_type": "code",
   "execution_count": null,
   "metadata": {},
   "outputs": [],
   "source": [
    "\n",
    "# ## Loading and establishing the datasets\n",
    "\n",
    "# trainPath = r\"FairFace/fairface_label_train.csv\" \n",
    "# valPath = r\"FairFace/fairface_label_val.csv\"\n",
    "# attributes = ['age_label', 'gender_label', 'race_label']\n",
    "\n",
    "# # Assuming the class inside dataLoader.py is named DataLoader\n",
    "# trainSet = FFL.FairFaceLoader(trainPath)\n",
    "# valSet = FFL.FairFaceLoader(valPath)\n",
    "\n",
    "# trainSet.balance(attributes,250)\n",
    "# valSet.balance(attributes,62)\n",
    "\n",
    "# trainSet.randomizeBalancedSet()\n",
    "# # trainSet.displayChart(\"balanced\")\n",
    "# trainSet.getDecodedLabels()\n"
   ]
  }
 ],
 "metadata": {
  "kernelspec": {
   "display_name": "Python 3",
   "language": "python",
   "name": "python3"
  },
  "language_info": {
   "codemirror_mode": {
    "name": "ipython",
    "version": 3
   },
   "file_extension": ".py",
   "mimetype": "text/x-python",
   "name": "python",
   "nbconvert_exporter": "python",
   "pygments_lexer": "ipython3",
   "version": "3.12.5"
  }
 },
 "nbformat": 4,
 "nbformat_minor": 2
}
